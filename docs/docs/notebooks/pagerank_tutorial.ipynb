{
  "cells": [
    {
      "cell_type": "markdown",
      "id": "949514cb",
      "metadata": {},
      "source": [
        "# PageRank Tutorial"
      ]
    },
    {
      "cell_type": "markdown",
      "id": "55d20e80-2565-410c-9d21-bdedad31c3b3",
      "metadata": {},
      "source": [
        "## Set up the environment. Import the sympy library."
      ]
    },
    {
      "cell_type": "code",
      "execution_count": 6,
      "id": "926266ab-a102-4ca5-b5a8-d2745fcd55a4",
      "metadata": {
        "trusted": true
      },
      "outputs": [],
      "source": [
        "import sympy as sym"
      ]
    },
    {
      "cell_type": "markdown",
      "id": "250722d8-0dfc-4796-a802-a2aebe52d3db",
      "metadata": {},
      "source": [
        "We make a matrix using the `sym.Matrix` function."
      ]
    },
    {
      "cell_type": "code",
      "execution_count": 7,
      "id": "2f728bab-61e1-42c9-b39a-f879cfb3efb7",
      "metadata": {
        "trusted": true
      },
      "outputs": [
        {
          "data": {
            "text/latex": [
              "$\\displaystyle \\left[\\begin{matrix}1 & 2 & 3\\\\2 & 1 & 3\\\\2 & 1 & 1\\end{matrix}\\right]$"
            ],
            "text/plain": [
              "Matrix([\n",
              "[1, 2, 3],\n",
              "[2, 1, 3],\n",
              "[2, 1, 1]])"
            ]
          },
          "execution_count": 7,
          "metadata": {},
          "output_type": "execute_result"
        }
      ],
      "source": [
        "T = sym.Matrix([[1,2,3],[2,1,3],[2,1,1]])\n",
        "T"
      ]
    },
    {
      "cell_type": "markdown",
      "id": "ee13f738-aa78-4de4-9977-fb146621bc63",
      "metadata": {},
      "source": [
        "We can create symbolic variables, and put them into the matrix if we want..."
      ]
    },
    {
      "cell_type": "code",
      "execution_count": 8,
      "id": "b048e792-824d-42c4-bf8e-b045345fbd91",
      "metadata": {
        "trusted": true
      },
      "outputs": [],
      "source": [
        "x1=sym.var('x1'); x2=sym.var('x2');x3=sym.var('x3');x4=sym.var('x4')"
      ]
    },
    {
      "cell_type": "code",
      "execution_count": 9,
      "id": "7faaab13-56c3-4b15-be5b-4a5090d90fc8",
      "metadata": {
        "trusted": true
      },
      "outputs": [
        {
          "data": {
            "text/latex": [
              "$\\displaystyle x_{1}$"
            ],
            "text/plain": [
              "x1"
            ]
          },
          "execution_count": 9,
          "metadata": {},
          "output_type": "execute_result"
        }
      ],
      "source": [
        "x1"
      ]
    },
    {
      "cell_type": "code",
      "execution_count": 10,
      "id": "59295017-2bf0-4afe-aad1-f9bd83a6d9c0",
      "metadata": {
        "trusted": true
      },
      "outputs": [
        {
          "data": {
            "text/latex": [
              "$\\displaystyle \\left[\\begin{matrix}1 & x_{2} & 3\\\\2 & 1 & 3\\\\2 & x_{1} & 1\\end{matrix}\\right]$"
            ],
            "text/plain": [
              "Matrix([\n",
              "[1, x2, 3],\n",
              "[2,  1, 3],\n",
              "[2, x1, 1]])"
            ]
          },
          "execution_count": 10,
          "metadata": {},
          "output_type": "execute_result"
        }
      ],
      "source": [
        "T2 = sym.Matrix([[1,x2,3],[2,1,3],[2,x1,1]])\n",
        "T2"
      ]
    },
    {
      "cell_type": "markdown",
      "id": "fadff747-13db-4282-8126-bd2942e7d1f8",
      "metadata": {},
      "source": [
        "If we input fractions, they are by default converted to floating point numbers:"
      ]
    },
    {
      "cell_type": "code",
      "execution_count": 11,
      "id": "79b8570b-9143-4cc5-ad70-0a9bf48b0ba3",
      "metadata": {
        "trusted": true
      },
      "outputs": [
        {
          "data": {
            "text/latex": [
              "$\\displaystyle \\left[\\begin{matrix}1 & x_{2} & 0.333333333333333\\\\2 & 1 & 3\\\\2 & x_{1} & 1\\end{matrix}\\right]$"
            ],
            "text/plain": [
              "Matrix([\n",
              "[1, x2, 0.333333333333333],\n",
              "[2,  1,                 3],\n",
              "[2, x1,                 1]])"
            ]
          },
          "execution_count": 11,
          "metadata": {},
          "output_type": "execute_result"
        }
      ],
      "source": [
        "T3 = sym.Matrix([[1,x2,1/3],[2,1,3],[2,x1,1]])\n",
        "T3"
      ]
    },
    {
      "cell_type": "markdown",
      "id": "dd21d772-fa38-4d65-aded-a909e590e703",
      "metadata": {},
      "source": [
        "It's nicer to input fractions and keep them as fractions:"
      ]
    },
    {
      "cell_type": "code",
      "execution_count": 12,
      "id": "de7e5726-9d56-457a-a2ac-1fdf88130b17",
      "metadata": {
        "trusted": true
      },
      "outputs": [
        {
          "data": {
            "text/latex": [
              "$\\displaystyle \\left[\\begin{matrix}1 & x_{2} & \\frac{1}{3}\\\\2 & 1 & 3\\\\2 & x_{1} & 1\\end{matrix}\\right]$"
            ],
            "text/plain": [
              "Matrix([\n",
              "[1, x2, 1/3],\n",
              "[2,  1,   3],\n",
              "[2, x1,   1]])"
            ]
          },
          "execution_count": 12,
          "metadata": {},
          "output_type": "execute_result"
        }
      ],
      "source": [
        "T4 = sym.Matrix([[1,x2,sym.Rational(1,3)],[2,1,3],[2,x1,1]])\n",
        "T4"
      ]
    },
    {
      "cell_type": "markdown",
      "id": "c8f9c793-e609-4e85-b7e5-d8339c7a4eaa",
      "metadata": {},
      "source": [
        "We can substitute values in for variables:"
      ]
    },
    {
      "cell_type": "code",
      "execution_count": 13,
      "id": "8da92782-049d-4184-9806-e10ded8bd481",
      "metadata": {
        "trusted": true
      },
      "outputs": [
        {
          "data": {
            "text/latex": [
              "$\\displaystyle \\left[\\begin{matrix}1 & x_{2} & \\frac{1}{3}\\\\2 & 1 & 3\\\\2 & 5 & 1\\end{matrix}\\right]$"
            ],
            "text/plain": [
              "Matrix([\n",
              "[1, x2, 1/3],\n",
              "[2,  1,   3],\n",
              "[2,  5,   1]])"
            ]
          },
          "execution_count": 13,
          "metadata": {},
          "output_type": "execute_result"
        }
      ],
      "source": [
        "T4.subs(x1,5)"
      ]
    },
    {
      "cell_type": "markdown",
      "id": "175e9862-b6f8-4f14-b556-f2f2efd0e00e",
      "metadata": {},
      "source": [
        "We can find reduced row echelon form:"
      ]
    },
    {
      "cell_type": "code",
      "execution_count": 14,
      "id": "87250d07-91c8-445d-9c0a-fa7b2d0465b5",
      "metadata": {
        "trusted": true
      },
      "outputs": [
        {
          "data": {
            "text/plain": [
              "(Matrix([\n",
              " [1, 0, 0],\n",
              " [0, 1, 0],\n",
              " [0, 0, 1]]),\n",
              " (0, 1, 2))"
            ]
          },
          "execution_count": 14,
          "metadata": {},
          "output_type": "execute_result"
        }
      ],
      "source": [
        "T4.rref()"
      ]
    },
    {
      "cell_type": "markdown",
      "id": "4c42c10b-6f17-4477-9a28-6eb78d17168e",
      "metadata": {},
      "source": [
        "This outputs the RREFand tells us which columns correspond to bound variables."
      ]
    },
    {
      "cell_type": "markdown",
      "id": "e93b2a42-9dd2-4af3-8c69-0d5fb161aebe",
      "metadata": {},
      "source": [
        "Lastly, we can do Gauss-Jordan elimination to solve a system of equations with a matrix and a right-hand-side:"
      ]
    },
    {
      "cell_type": "code",
      "execution_count": 15,
      "id": "b6745cb4-b1b2-4e05-91b0-0decb8dd93f0",
      "metadata": {
        "trusted": true
      },
      "outputs": [
        {
          "data": {
            "text/plain": [
              "(Matrix([\n",
              " [(17*x1 - 24*x2 - 3)/(7*x1 - 12*x2 - 1)],\n",
              " [                 -4/(7*x1 - 12*x2 - 1)],\n",
              " [(-9*x1 + 12*x2 + 3)/(7*x1 - 12*x2 - 1)]]),\n",
              " Matrix(0, 1, []))"
            ]
          },
          "execution_count": 15,
          "metadata": {},
          "output_type": "execute_result"
        }
      ],
      "source": [
        "T4.gauss_jordan_solve(sym.Matrix([2,1,3]))"
      ]
    },
    {
      "cell_type": "markdown",
      "id": "ec6773d2-60c1-4d33-bb29-6a5e83781275",
      "metadata": {},
      "source": [
        "That's messy! It's exporting several things, but the one we want is the first."
      ]
    },
    {
      "cell_type": "code",
      "execution_count": 16,
      "id": "7c63e1a3-58f4-4af8-af65-34dc68692c03",
      "metadata": {
        "trusted": true
      },
      "outputs": [
        {
          "data": {
            "text/latex": [
              "$\\displaystyle \\left[\\begin{matrix}\\frac{17 x_{1} - 24 x_{2} - 3}{7 x_{1} - 12 x_{2} - 1}\\\\- \\frac{4}{7 x_{1} - 12 x_{2} - 1}\\\\\\frac{- 9 x_{1} + 12 x_{2} + 3}{7 x_{1} - 12 x_{2} - 1}\\end{matrix}\\right]$"
            ],
            "text/plain": [
              "Matrix([\n",
              "[(17*x1 - 24*x2 - 3)/(7*x1 - 12*x2 - 1)],\n",
              "[                 -4/(7*x1 - 12*x2 - 1)],\n",
              "[(-9*x1 + 12*x2 + 3)/(7*x1 - 12*x2 - 1)]])"
            ]
          },
          "execution_count": 16,
          "metadata": {},
          "output_type": "execute_result"
        }
      ],
      "source": [
        "T4.gauss_jordan_solve(sym.Matrix([2,1,3]))[0]"
      ]
    },
    {
      "cell_type": "markdown",
      "id": "040bd960-516d-4416-93f3-ee7622002028",
      "metadata": {},
      "source": [
        "## Now you try!"
      ]
    },
    {
      "cell_type": "markdown",
      "id": "3b996c3b-0dc5-4871-92d0-b5979422e0d5",
      "metadata": {},
      "source": [
        "Create a matrix representing the system of equations for the \"third try\" in the PageRank problem:\n",
        "\n",
        "$$\n",
        "\\begin{aligned}\n",
        "& x_{1}=\\frac{x_{2}}{1}+\\frac{x_{3}}{3} \\\\\n",
        "& x_{2}=\\frac{x_{1}}{2}+\\frac{x_{3}}{3} \\\\\n",
        "& x_{3}=\\frac{x_{1}}{2}+\\frac{x_{4}}{1} \\\\\n",
        "& x_{4}=\\frac{x_{3}}{3} .\n",
        "\\end{aligned}\n",
        "$$"
      ]
    },
    {
      "cell_type": "code",
      "execution_count": null,
      "id": "04e2a882-cd60-42b7-9e63-a56954eb9c21",
      "metadata": {
        "trusted": true
      },
      "outputs": [],
      "source": []
    },
    {
      "cell_type": "markdown",
      "id": "54f666cd-cd09-4b7f-bf99-a4378abb3be4",
      "metadata": {},
      "source": [
        "Now find the RREF form of this matrix. What does that tell you about the system?"
      ]
    },
    {
      "cell_type": "code",
      "execution_count": null,
      "id": "2ec888df-3ed8-42ce-b44f-179f9b9922db",
      "metadata": {
        "trusted": true
      },
      "outputs": [],
      "source": []
    },
    {
      "cell_type": "markdown",
      "id": "579beff6-9edb-46f4-bbe9-8334688b0a54",
      "metadata": {},
      "source": [
        "Next, use the `gauss_jordan_solve`. What's surprising (or not) about these results?"
      ]
    },
    {
      "cell_type": "code",
      "execution_count": null,
      "id": "a54af825-3d9e-47c1-8b25-0cc1f638c0a1",
      "metadata": {
        "trusted": true
      },
      "outputs": [],
      "source": []
    },
    {
      "cell_type": "markdown",
      "id": "6e8b01ea-c1c0-4ee8-8fd2-59f319e2d010",
      "metadata": {},
      "source": [
        "Substitute a specific value to get a particular solution..."
      ]
    }
  ],
  "metadata": {
    "kernelspec": {
      "display_name": "Python 3",
      "language": "python",
      "name": "python3"
    },
    "language_info": {
      "codemirror_mode": {
        "name": "ipython",
        "version": 3
      },
      "file_extension": ".py",
      "mimetype": "text/x-python",
      "name": "python",
      "nbconvert_exporter": "python",
      "pygments_lexer": "ipython3",
      "version": "3.11.7"
    }
  },
  "nbformat": 4,
  "nbformat_minor": 5
}
