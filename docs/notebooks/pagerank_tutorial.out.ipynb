{
  "cells": [
    {
      "cell_type": "markdown",
      "metadata": {},
      "source": [
        "# PageRank Tutorial\n",
        "\n",
        "# PageRank Tutorial\n",
        "\n",
        "## Set up the environment. Import the sympy library."
      ],
      "id": "84355973-e838-43aa-a13b-5046b82b1b1c"
    },
    {
      "cell_type": "code",
      "execution_count": 6,
      "metadata": {
        "trusted": true
      },
      "outputs": [],
      "source": [
        "import sympy as sym"
      ],
      "id": "926266ab-a102-4ca5-b5a8-d2745fcd55a4"
    },
    {
      "cell_type": "markdown",
      "metadata": {},
      "source": [
        "We make a matrix using the `sym.Matrix` function."
      ],
      "id": "32e5264e-abf0-4320-a466-651a21a24fd3"
    },
    {
      "cell_type": "code",
      "execution_count": 7,
      "metadata": {
        "trusted": true
      },
      "outputs": [],
      "source": [
        "T = sym.Matrix([[1,2,3],[2,1,3],[2,1,1]])\n",
        "T"
      ],
      "id": "2f728bab-61e1-42c9-b39a-f879cfb3efb7"
    },
    {
      "cell_type": "markdown",
      "metadata": {},
      "source": [
        "We can create symbolic variables, and put them into the matrix if we\n",
        "want…"
      ],
      "id": "0d8594aa-dc46-46e4-8fd9-2d5df270e89d"
    },
    {
      "cell_type": "code",
      "execution_count": 8,
      "metadata": {
        "trusted": true
      },
      "outputs": [],
      "source": [
        "x1=sym.var('x1'); x2=sym.var('x2');x3=sym.var('x3');x4=sym.var('x4')"
      ],
      "id": "b048e792-824d-42c4-bf8e-b045345fbd91"
    },
    {
      "cell_type": "code",
      "execution_count": 9,
      "metadata": {
        "trusted": true
      },
      "outputs": [],
      "source": [
        "x1"
      ],
      "id": "7faaab13-56c3-4b15-be5b-4a5090d90fc8"
    },
    {
      "cell_type": "code",
      "execution_count": 10,
      "metadata": {
        "trusted": true
      },
      "outputs": [],
      "source": [
        "T2 = sym.Matrix([[1,x2,3],[2,1,3],[2,x1,1]])\n",
        "T2"
      ],
      "id": "59295017-2bf0-4afe-aad1-f9bd83a6d9c0"
    },
    {
      "cell_type": "markdown",
      "metadata": {},
      "source": [
        "If we input fractions, they are by default converted to floating point\n",
        "numbers:"
      ],
      "id": "639eab54-d38e-4428-b89b-c972fff49127"
    },
    {
      "cell_type": "code",
      "execution_count": 11,
      "metadata": {
        "trusted": true
      },
      "outputs": [],
      "source": [
        "T3 = sym.Matrix([[1,x2,1/3],[2,1,3],[2,x1,1]])\n",
        "T3"
      ],
      "id": "79b8570b-9143-4cc5-ad70-0a9bf48b0ba3"
    },
    {
      "cell_type": "markdown",
      "metadata": {},
      "source": [
        "It’s nicer to input fractions and keep them as fractions:"
      ],
      "id": "b1e979af-c6a7-446d-befa-85f69290da4a"
    },
    {
      "cell_type": "code",
      "execution_count": 12,
      "metadata": {
        "trusted": true
      },
      "outputs": [],
      "source": [
        "T4 = sym.Matrix([[1,x2,sym.Rational(1,3)],[2,1,3],[2,x1,1]])\n",
        "T4"
      ],
      "id": "de7e5726-9d56-457a-a2ac-1fdf88130b17"
    },
    {
      "cell_type": "markdown",
      "metadata": {},
      "source": [
        "We can substitute values in for variables:"
      ],
      "id": "5f905691-a6f4-429f-9a4a-10dc1dc526eb"
    },
    {
      "cell_type": "code",
      "execution_count": 13,
      "metadata": {
        "trusted": true
      },
      "outputs": [],
      "source": [
        "T4.subs(x1,5)"
      ],
      "id": "8da92782-049d-4184-9806-e10ded8bd481"
    },
    {
      "cell_type": "markdown",
      "metadata": {},
      "source": [
        "We can find reduced row echelon form:"
      ],
      "id": "77ff46f2-8521-47b6-b52f-0dbff3b15745"
    },
    {
      "cell_type": "code",
      "execution_count": 14,
      "metadata": {
        "trusted": true
      },
      "outputs": [
        {
          "output_type": "display_data",
          "metadata": {},
          "data": {
            "text/plain": [
              "(Matrix([\n",
              " [1, 0, 0],\n",
              " [0, 1, 0],\n",
              " [0, 0, 1]]),\n",
              " (0, 1, 2))"
            ]
          }
        }
      ],
      "source": [
        "T4.rref()"
      ],
      "id": "87250d07-91c8-445d-9c0a-fa7b2d0465b5"
    },
    {
      "cell_type": "markdown",
      "metadata": {},
      "source": [
        "This outputs the RREFand tells us which columns correspond to bound\n",
        "variables.\n",
        "\n",
        "Lastly, we can do Gauss-Jordan elimination to solve a system of\n",
        "equations with a matrix and a right-hand-side:"
      ],
      "id": "3eac165a-f9da-41e4-8e2c-96869320af5a"
    },
    {
      "cell_type": "code",
      "execution_count": 15,
      "metadata": {
        "trusted": true
      },
      "outputs": [
        {
          "output_type": "display_data",
          "metadata": {},
          "data": {
            "text/plain": [
              "(Matrix([\n",
              " [(17*x1 - 24*x2 - 3)/(7*x1 - 12*x2 - 1)],\n",
              " [                 -4/(7*x1 - 12*x2 - 1)],\n",
              " [(-9*x1 + 12*x2 + 3)/(7*x1 - 12*x2 - 1)]]),\n",
              " Matrix(0, 1, []))"
            ]
          }
        }
      ],
      "source": [
        "T4.gauss_jordan_solve(sym.Matrix([2,1,3]))"
      ],
      "id": "b6745cb4-b1b2-4e05-91b0-0decb8dd93f0"
    },
    {
      "cell_type": "markdown",
      "metadata": {},
      "source": [
        "That’s messy! It’s exporting several things, but the one we want is the\n",
        "first."
      ],
      "id": "1a0e521a-51ca-4dfd-830d-73c0e06fc75b"
    },
    {
      "cell_type": "code",
      "execution_count": 16,
      "metadata": {
        "trusted": true
      },
      "outputs": [],
      "source": [
        "T4.gauss_jordan_solve(sym.Matrix([2,1,3]))[0]"
      ],
      "id": "7c63e1a3-58f4-4af8-af65-34dc68692c03"
    },
    {
      "cell_type": "markdown",
      "metadata": {},
      "source": [
        "## Now you try!\n",
        "\n",
        "Create a matrix representing the system of equations for the “third try”\n",
        "in the PageRank problem:\n",
        "\n",
        "$$\n",
        "\\begin{aligned}\n",
        "& x_{1}=\\frac{x_{2}}{1}+\\frac{x_{3}}{3} \\\\\n",
        "& x_{2}=\\frac{x_{1}}{2}+\\frac{x_{3}}{3} \\\\\n",
        "& x_{3}=\\frac{x_{1}}{2}+\\frac{x_{4}}{1} \\\\\n",
        "& x_{4}=\\frac{x_{3}}{3} .\n",
        "\\end{aligned}\n",
        "$$\n",
        "\n",
        "Now find the RREF form of this matrix. What does that tell you about the\n",
        "system?\n",
        "\n",
        "Next, use the `gauss_jordan_solve`. What’s surprising (or not) about\n",
        "these results?\n",
        "\n",
        "Substitute a specific value to get a particular solution…"
      ],
      "id": "d04884a1-483d-48df-8a37-d895fbd1c436"
    }
  ],
  "nbformat": 4,
  "nbformat_minor": 5,
  "metadata": {
    "kernelspec": {
      "name": "python3",
      "display_name": "Python 3",
      "language": "python"
    },
    "language_info": {
      "name": "python",
      "codemirror_mode": {
        "name": "ipython",
        "version": "3"
      },
      "file_extension": ".py",
      "mimetype": "text/x-python",
      "nbconvert_exporter": "python",
      "pygments_lexer": "ipython3",
      "version": "3.11.7"
    }
  }
}