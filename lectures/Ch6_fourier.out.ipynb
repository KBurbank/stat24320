{
  "cells": [
    {
      "cell_type": "markdown",
      "metadata": {},
      "source": [
        "# Ch6 Fourier\n",
        "\n",
        "## *Discrete-time filters in continuous frequency space*\n",
        "\n",
        "Back to your textbook, in Chapter 6:\n",
        "\n",
        "## \n",
        "\n",
        "## \n",
        "\n",
        "Thus for fixed $m$ and arbitrary $n$, we have\n",
        "\n",
        "## *Gain*\n",
        "\n",
        "$\\left|y_{m, n}\\right| \\leq\\left|H\\left(-m \\omega T_{s}\\right)\\right|\\left|x_{m, n}\\right|$\n",
        "\n",
        "So we define **gain** or **attenuation** of this transformation as\n",
        "$G(\\zeta)=|H(\\zeta)|$\n",
        "\n",
        ". . .\n",
        "\n",
        "We define **phase rotation** as $\\Theta(\\zeta)=\\theta$, where\n",
        "$H(\\zeta)=|H(\\zeta)| e^{i \\theta}$\n",
        "\n",
        ". . .\n",
        "\n",
        "The filter $h$ will **attenuate** the signal at frequencies where\n",
        "$|H(\\zeta)|<1$ and **amplify** the signal at frequencies where\n",
        "$|H(\\zeta)|>1$. It will phase shift the signal by $\\Theta(\\zeta)$.\n",
        "\n",
        "## *High-pass and low-pass filters*\n",
        "\n",
        "The FIR filter $\\mathbf{h}=\\left\\{h_{k}\\right\\}_{k=0}^{L}$ with discrete\n",
        "time Fourier transform $H(\\zeta)$ is a **lowpass filter** if $|H(0)|=1$\n",
        "and $|H(\\pi)|=0$; $\\mathbf{h}$ is a **highpass filter** if $|H(0)|=0$\n",
        "and $|H(\\pi)|=1$."
      ],
      "id": "53cb001f-a3c0-4482-8a0e-0bb6bda9fe3b"
    }
  ],
  "nbformat": 4,
  "nbformat_minor": 5,
  "metadata": {
    "kernelspec": {
      "display_name": "Python 3",
      "language": "python",
      "name": "python3"
    }
  }
}