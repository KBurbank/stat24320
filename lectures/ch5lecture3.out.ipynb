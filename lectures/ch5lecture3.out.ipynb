{
  "cells": [
    {
      "cell_type": "markdown",
      "metadata": {},
      "source": [
        "# Ch 5 Lecture 3\n",
        "\n",
        "# *Intuition about SVD*\n",
        "\n",
        "## *Thinking again about matrix diagonalization*\n",
        "\n",
        "## *The same logic, applied to a general matrix*\n",
        "\n",
        "## *Recap*\n",
        "\n",
        "$$\n",
        "A=U S V^{T}\n",
        "$$\n",
        "\n",
        "where\n",
        "\n",
        "\\$\\$"
      ],
      "id": "302403c8-bd92-4a84-a395-1385fe5be0ef"
    },
    {
      "cell_type": "raw",
      "metadata": {
        "raw_mimetype": "tex"
      },
      "source": [
        "\\begin{array}{lccc}\n",
        " & & & U & V \n",
        "& S \\\\\n",
        "& & &\\left(\\begin{array}{ccc}\n",
        "\\mid & & \\mid \\\\\n",
        "\\mathbf{u}_{1} & \\cdots & \\mathbf{u}_{m} \\\\\n",
        "\\mid & & \\mid\n",
        "\\end{array}\\right) &\\left(\\begin{array}{ccc}\n",
        "\\mid & & \\mid \\\\\n",
        "\\mathbf{v}_{1} & \\cdots & \\mathbf{v}_{n} \\\\\n",
        "\\mid & & \\mid\n",
        "\\end{array}\\right) &\\left(\\begin{array}{cccc}\n",
        "\\sigma_1 & & & \\\\\n",
        "& \\sigma_2 & \\\\  & & \\ddots & \\\\\n",
        "& & &  \\sigma_r & \\\\ & & & & \\ddots \\\\ & & & & & 0\n",
        "\n",
        "\\end{array}\\right)\\\\\n",
        "\\text{eigenvectors of} & & & A A^{T}  & A^{T} A \\\\\n",
        "\\end{array}"
      ],
      "id": "0dd3a13a-33e9-4587-8419-0835cd87a3bb"
    },
    {
      "cell_type": "markdown",
      "metadata": {},
      "source": [
        "\\$\\$\n",
        "\n",
        "## *Example*\n",
        "\n",
        "$$\n",
        "A=\\left(\\begin{array}{ccc}\n",
        "3 & 2 & 2 \\\\\n",
        "2 & 3 & -2\n",
        "\\end{array}\\right)\n",
        "$$\n",
        "\n",
        ". . .\n",
        "\n",
        "$$\n",
        "A A^{T}=\\left(\\begin{array}{cc}\n",
        "17 & 8 \\\\\n",
        "8 & 17\n",
        "\\end{array}\\right), \\quad A^{T} A=\\left(\\begin{array}{ccc}\n",
        "13 & 12 & 2 \\\\\n",
        "12 & 13 & -2 \\\\\n",
        "2 & -2 & 8\n",
        "\\end{array}\\right)\n",
        "$$\n",
        "\n",
        "## \n",
        "\n",
        "$$\n",
        "\\begin{array}{cc}\n",
        "A A^{T}=\\left(\\begin{array}{cc}\n",
        "17 & 8 \\\\\n",
        "8 & 17\n",
        "\\end{array}\\right) & A^{T} A=\\left(\\begin{array}{ccc}\n",
        "13 & 12 & 2 \\\\\n",
        "12 & 13 & -2 \\\\\n",
        "2 & -2 & 8\n",
        "\\end{array}\\right) \\\\\n",
        "\\begin{array}{c}\n",
        "\\text { eigenvalues: } \\lambda_{1}=25, \\lambda_{2}=9 \\\\\n",
        "\\text { eigenvectors }\n",
        "\\end{array} & \\begin{array}{c}\n",
        "\\text { eigenvalues: } \\lambda_{1}=25, \\lambda_{2}=9, \\lambda_{3}=0 \\\\\n",
        "\\text { eigenvectors }\n",
        "\\end{array} \\\\\n",
        "u_{1}=\\binom{1 / \\sqrt{2}}{1 / \\sqrt{2}} \\quad u_{2}=\\binom{1 / \\sqrt{2}}{-1 / \\sqrt{2}} & v_{1}=\\left(\\begin{array}{c}\n",
        "1 / \\sqrt{2} \\\\\n",
        "1 / \\sqrt{2} \\\\\n",
        "0\n",
        "\\end{array}\\right) \\quad v_{2}=\\left(\\begin{array}{c}\n",
        "1 / \\sqrt{18} \\\\\n",
        "-1 / \\sqrt{18} \\\\\n",
        "4 / \\sqrt{18}\n",
        "\\end{array}\\right) \\quad v_{3}=\\left(\\begin{array}{c}\n",
        "2 / 3 \\\\\n",
        "-2 / 3 \\\\\n",
        "-1 / 3\n",
        "\\end{array}\\right)\n",
        "\\end{array}\n",
        "$$\n",
        "\n",
        "## \n",
        "\n",
        "SVD decomposition of $A$: $$\n",
        "A=U S V^{T}=\\left(\\begin{array}{cc}\n",
        "1 / \\sqrt{2} & 1 / \\sqrt{2} \\\\\n",
        "1 / \\sqrt{2} & -1 / \\sqrt{2}\n",
        "\\end{array}\\right)\\left(\\begin{array}{ccc}\n",
        "5 & 0 & 0 \\\\\n",
        "0 & 3 & 0\n",
        "\\end{array}\\right)\\left(\\begin{array}{rrr}\n",
        "1 / \\sqrt{2} & 1 / \\sqrt{2} & 0 \\\\\n",
        "1 / \\sqrt{18} & -1 / \\sqrt{18} & 4 / \\sqrt{18} \\\\\n",
        "2 / 3 & -2 / 3 & -1 / 3\n",
        "\\end{array}\\right)\n",
        "$$\n",
        "\n",
        "## *Reformulating SVD*\n",
        "\n",
        "## \n",
        "\n",
        "## *SVD as a sum of rank-one matrices*\n",
        "\n",
        "$$\n",
        "A=\\sigma_{l} u_{l} v_{l}^{T}+\\ldots+\\sigma_{r} u_{r} v_{r}^{T}\n",
        "$$\n",
        "\n",
        "## *Back to our example*\n",
        "\n",
        "$$\n",
        "A=\\left(\\begin{array}{ccc}\n",
        "3 & 2 & 2 \\\\\n",
        "2 & 3 & -2\n",
        "\\end{array}\\right)\n",
        "$$\n",
        "\n",
        ". . .\n",
        "\n",
        "Can decompose as\n",
        "\n",
        "![](https://cdn.mathpix.com/cropped/2024_05_01_1b1bef8a8bd39ab29098g-12.jpg?height=260&width=1545&top_left_y=46&top_left_x=260)\n",
        "\n",
        ". . .\n",
        "\n",
        "$=\\left(\\begin{array}{ccc}3 & 2 & 2 \\\\ 2 & 3 & -2\\end{array}\\right)$\n",
        "\n",
        "## \n",
        "\n",
        "# *Uses of SVD*\n",
        "\n",
        "## *Moore-Penrose pseudoinverse*\n",
        "\n",
        "If we have a linear system\n",
        "\n",
        "$$\n",
        "\\begin{aligned}\n",
        "A x & =b \\\\\n",
        "\\end{aligned}\n",
        "$$\n",
        "\n",
        "and $A$ is invertible, then we can solve for $x$:\n",
        "\n",
        "$$\n",
        "\\begin{aligned}\n",
        "x & =A^{-1} b\n",
        "\\end{aligned}\n",
        "$$\n",
        "\n",
        ". . .\n",
        "\n",
        "If $A$ is not invertible, we can define instead a *pseudoinverse*\n",
        "$A^{+}$\n",
        "\n",
        ". . .\n",
        "\n",
        "Define $A^{+}$ in order to minimize the least squares error:\n",
        "\n",
        "$$\n",
        "\\left\\|\\mathbf{A} \\mathbf{A}^{+}-\\mathbf{I}_{\\mathbf{n}}\\right\\|_{2}\n",
        "$$\n",
        "\n",
        ". . .\n",
        "\n",
        "Then we can estimate $x$ as\n",
        "\n",
        "$$\n",
        "\\begin{aligned}\n",
        "A x & =b \\\\\n",
        "x & \\approx A^{+} b\n",
        "\\end{aligned}\n",
        "$$\n",
        "\n",
        "## *Finding the form of the pseudoinverse*\n",
        "\n",
        "## *Example*\n",
        "\n",
        "# *Matrices as data*\n",
        "\n",
        "## *Example: Height and weight*\n",
        "\n",
        "$A^T=\\left[\\begin{array}{rrrrrrrrrrrr}2.9 & -1.5 & 0.1 & -1.0 & 2.1 & -4.0 & -2.0 & 2.2 & 0.2 & 2.0 & 1.5 & -2.5 \\\\ 4.0 & -0.9 & 0.0 & -1.0 & 3.0 & -5.0 & -3.5 & 2.6 & 1.0 & 3.5 & 1.0 & -4.7\\end{array}\\right]$\n",
        "\n",
        ". . .\n",
        "\n",
        "![](https://cdn.mathpix.com/cropped/2024_05_01_1b1bef8a8bd39ab29098g-16.jpg?height=1285&width=1379&top_left_y=49&top_left_x=446)\n",
        "\n",
        "## *Covariance matrix*\n",
        "\n",
        "Covariance: $$\n",
        "\\begin{aligned}\n",
        "\\sigma_{a b}^{2} & =\\operatorname{cov}(a, b)=\\mathrm{E}[(a-\\bar{a})(b-\\bar{b})] \\\\\n",
        "\\sigma_{a}^{2} & =\\operatorname{var}(a)=\\operatorname{cov}(a, a)=\\mathrm{E}\\left[(a-\\bar{a})^{2}\\right]\n",
        "\\end{aligned}\n",
        "$$\n",
        "\n",
        ". . .\n",
        "\n",
        "Covariance matrix:\n",
        "\n",
        "$$\n",
        "\\mathbf{\\Sigma}=\\left(\\begin{array}{cccc}\n",
        "E\\left[\\left(x_{1}-\\mu_{1}\\right)\\left(x_{1}-\\mu_{1}\\right)\\right] & E\\left[\\left(x_{1}-\\mu_{1}\\right)\\left(x_{2}-\\mu_{2}\\right)\\right] & \\ldots & E\\left[\\left(x_{1}-\\mu_{1}\\right)\\left(x_{p}-\\mu_{p}\\right)\\right] \\\\\n",
        "E\\left[\\left(x_{2}-\\mu_{2}\\right)\\left(x_{1}-\\mu_{1}\\right)\\right] & E\\left[\\left(x_{2}-\\mu_{2}\\right)\\left(x_{2}-\\mu_{2}\\right)\\right] & \\ldots & E\\left[\\left(x_{2}-\\mu_{2}\\right)\\left(x_{p}-\\mu_{p}\\right)\\right] \\\\\n",
        "\\vdots & \\vdots & \\ddots & \\vdots \\\\\n",
        "E\\left[\\left(x_{p}-\\mu_{p}\\right)\\left(x_{1}-\\mu_{1}\\right)\\right] & E\\left[\\left(x_{p}-\\mu_{p}\\right)\\left(x_{2}-\\mu_{2}\\right)\\right] & \\ldots & E\\left[\\left(x_{p}-\\mu_{p}\\right)\\left(x_{p}-\\mu_{p}\\right)\\right]\n",
        "\\end{array}\\right)\n",
        "$$\n",
        "\n",
        ". . .\n",
        "\n",
        "$$\n",
        "\\Sigma=\\mathrm{E}\\left[(X-\\bar{X})(X-\\bar{X})^{\\mathrm{T}}\\right] \n",
        "$$\n",
        "\n",
        ". . . $$\n",
        "\\Sigma=\\frac{X X^{\\mathrm{T}}}{n} \\quad \\text { (if } X \\text { is already zero centered) }\n",
        "$$\n",
        "\n",
        ". . .\n",
        "\n",
        "For our dataset,\n",
        "\n",
        "$$\n",
        "\\text { Sample covariance } S^{2}=\\frac{A^{T} A}{(\\mathrm{n}-1)}=\\frac{1}{11}\\left[\\begin{array}{rr}\n",
        "53.46 & 73.42 \\\\\n",
        "73.42 & 107.16\n",
        "\\end{array}\\right]\n",
        "$$\n",
        "\n",
        "## \n",
        "\n",
        "$A^T=\\left[\\begin{array}{rrrrrrrrrrrr}2.9 & -1.5 & 0.1 & -1.0 & 2.1 & -4.0 & -2.0 & 2.2 & 0.2 & 2.0 & 1.5 & -2.5 \\\\ 4.0 & -0.9 & 0.0 & -1.0 & 3.0 & -5.0 & -3.5 & 2.6 & 1.0 & 3.5 & 1.0 & -4.7\\end{array}\\right]$\n",
        "\n",
        ". . .\n",
        "\n",
        "## *Plotting*\n",
        "\n",
        "The columns of the V matrix:"
      ],
      "id": "ffc5f8c5-27a5-4735-91ab-ed8d6812e19b"
    },
    {
      "cell_type": "code",
      "execution_count": 1,
      "metadata": {},
      "outputs": [
        {
          "output_type": "stream",
          "name": "stdout",
          "text": [
            "[[-0.57294952 -0.81959066]\n",
            " [ 0.81959066 -0.57294952]]"
          ]
        },
        {
          "output_type": "display_data",
          "metadata": {},
          "data": {
            "image/png": "[encoded data removed]"
          }
        }
      ],
      "source": [
        "import numpy as np\n",
        "import matplotlib.pyplot as plt\n",
        "data = np.array([[2.9, 4.0], [-1.5, -0.9], [0.1, 0.0], [-1.0, -1.0], [2.1, 3.0], [-4.0, -5.0], [-2.0, -3.5], [2.2, 2.6], [0.2, 1.0], [2.0, 3.5], [1.5, 1.0], [-2.5, -4.7]])\n",
        "Ud,Sd,Vd=np.linalg.svd(data)\n",
        "print(Vd)\n",
        "plt.clf()\n",
        "\n",
        "plt.scatter(data[:,0],data[:,1])\n",
        "plt.quiver(0,0,Vd.T[0,0]*Sd[0]/5,Vd.T[1,0]*Sd[0]/5,angles='xy',scale_units='xy',scale=1, color = 'red')\n",
        "plt.quiver(0,0,Vd.T[0,1],Vd.T[1,1],angles='xy',scale_units='xy',scale=1, color = 'blue')\n",
        "plt.axis('equal')\n",
        "plt.show()"
      ],
      "id": "5aa4372b"
    },
    {
      "cell_type": "markdown",
      "metadata": {},
      "source": [
        "Walk through why these vectors are actually the eigenvectors of the\n",
        "covariance matrix.\n",
        "\n",
        "## \n",
        "\n",
        "The components of the data matrix"
      ],
      "id": "e6b3a18a-77e0-466a-b10a-4f91c9c87a90"
    },
    {
      "cell_type": "code",
      "execution_count": 2,
      "metadata": {},
      "outputs": [
        {
          "output_type": "display_data",
          "metadata": {},
          "data": {
            "image/png": "[encoded data removed]"
          }
        }
      ],
      "source": [
        "#plt.scatter(data[:,0],data[:,1])\n",
        "plt.clf()\n",
        "component1 = np.outer(Ud[:,0],Sd[0]*Vd[0])\n",
        "component2 = np.outer(Ud[:,1],Sd[1]*Vd[1])\n",
        "plt.scatter(component1[:,0],component1[:,1])\n",
        "plt.scatter(component2[:,0],component2[:,1])\n",
        "combined = component1 + component2\n",
        "plt.scatter(combined[:,0],combined[:,1])\n",
        "plt.axis('equal')\n",
        "# add a legend\n",
        "plt.legend([\"component 1\", \"component 2\", \"combined\"])\n",
        "plt.show()"
      ],
      "id": "7eb5acc5"
    },
    {
      "cell_type": "markdown",
      "metadata": {},
      "source": [
        "## *The columns of the U matrix*"
      ],
      "id": "cc86f4a0-32ef-48c9-9273-f4f8ec5585d4"
    },
    {
      "cell_type": "code",
      "execution_count": 3,
      "metadata": {},
      "outputs": [
        {
          "output_type": "display_data",
          "metadata": {},
          "data": {
            "image/png": "[encoded data removed]"
          }
        }
      ],
      "source": [
        "plt.scatter(Ud.T[0]*Sd[0],Ud.T[1]*Sd[1])\n",
        "plt.quiver(0,0,0,1,angles='xy',scale_units='xy',scale=1)\n",
        "plt.quiver(0,0,1,0,angles='xy',scale_units='xy',scale=1)\n",
        "plt.axis('equal')\n",
        "# give x label \"column u1\" and y label \"column u2\"\n",
        "plt.xlabel(\"column u1\")\n",
        "plt.ylabel(\"column u2\")\n",
        "\n",
        "plt.show()"
      ],
      "id": "8b092b15"
    },
    {
      "cell_type": "markdown",
      "metadata": {},
      "source": [
        "## *What if we had different orthogonal matrix for V, that wasn’t eigenvectors of the covariance matrix?*"
      ],
      "id": "6bdfa988-18d4-453f-a033-5af3eda024f0"
    },
    {
      "cell_type": "code",
      "execution_count": 4,
      "metadata": {},
      "outputs": [
        {
          "output_type": "stream",
          "name": "stdout",
          "text": [
            "[[4.86       6.67454545]\n",
            " [6.67454545 9.74181818]]"
          ]
        },
        {
          "output_type": "display_data",
          "metadata": {},
          "data": {
            "image/png": "[encoded data removed]"
          }
        }
      ],
      "source": [
        "va=np.array([[1,0],[0,1]])\n",
        "ua=np.matmul(data,va)\n",
        "plt.scatter(ua[:,0],ua[:,1])\n",
        "print(np.cov(ua.T))\n",
        "plt.axis('equal')\n",
        "# give x label \"column u1\" and y label \"column u2\"\n",
        "plt.xlabel(\"column u1\")\n",
        "plt.ylabel(\"column u2\")\n",
        "\n",
        "plt.show()"
      ],
      "id": "b247a0a8"
    },
    {
      "cell_type": "markdown",
      "metadata": {},
      "source": [
        "The columns of the U matrix are no longer orthogonal.\n",
        "\n",
        "## \n",
        "\n",
        "The U matrix as a heat plot"
      ],
      "id": "c3ac89fa-ea4c-43ce-acea-f67e8dc982c2"
    },
    {
      "cell_type": "code",
      "execution_count": 5,
      "metadata": {},
      "outputs": [
        {
          "output_type": "display_data",
          "metadata": {},
          "data": {
            "image/png": "[encoded data removed]"
          }
        }
      ],
      "source": [
        "# make a heatmap of the Ud matrix\n",
        "plt.imshow(Ud, cmap='hot', interpolation='nearest')\n",
        "plt.colorbar()\n",
        "plt.show()"
      ],
      "id": "51ecf05c"
    }
  ],
  "nbformat": 4,
  "nbformat_minor": 5,
  "metadata": {
    "kernelspec": {
      "name": "python3",
      "display_name": "Python 3 (ipykernel)",
      "language": "python"
    }
  }
}