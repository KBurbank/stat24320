{
  "cells": [
    {
      "cell_type": "markdown",
      "metadata": {},
      "source": [
        "# a test\n",
        "\n",
        "# *A test*\n",
        "\n",
        "## *A slide*\n",
        "\n",
        "``` {pyodide-python}\n",
        "import matplotlib.pyplot as plt\n",
        "plt.plot([1, 2, 3, 4])\n",
        "plt.show()\n",
        "```"
      ],
      "id": "1d0fea72-23a4-4a41-8527-451a022d3c22"
    }
  ],
  "nbformat": 4,
  "nbformat_minor": 5,
  "metadata": {
    "kernelspec": {
      "display_name": "Python 3",
      "language": "python",
      "name": "python3"
    }
  }
}