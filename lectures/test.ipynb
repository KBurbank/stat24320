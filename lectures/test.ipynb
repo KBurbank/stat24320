{
  "cells": [
    {
      "cell_type": "markdown",
      "metadata": {},
      "source": [
        "# a test\n",
        "\n",
        "# *A test*\n",
        "\n",
        "## *A slide*\n",
        "\n",
        "``` {pyodide-python}\n",
        "import matplotlib.pyplot as plt\n",
        "plt.plot([1, 2, 3, 4])\n",
        "plt.show()\n",
        "```"
      ],
      "id": "0caa9f5c-8bc8-459c-91a3-a7831882ec4d"
    }
  ],
  "nbformat": 4,
  "nbformat_minor": 5,
  "metadata": {
    "kernelspec": {
      "display_name": "Python 3",
      "language": "python",
      "name": "python3"
    }
  }
}