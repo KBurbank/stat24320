{
  "cells": [
    {
      "cell_type": "markdown",
      "metadata": {},
      "source": [
        "# Testing Lightbox\n",
        "\n",
        "OK now.\n",
        "\n",
        "``` {pyodide-python}\n",
        "import matplotlib.pyplot as plt\n",
        "fig=plt.figure()\n",
        "plt.plot([1,2,3,4])\n",
        "plt.show()\n",
        "print(3+4)\n",
        "plt.close(fig)\n",
        "```"
      ],
      "id": "6902511b-6a67-48bd-b3f1-5c589b70f8b5"
    }
  ],
  "nbformat": 4,
  "nbformat_minor": 5,
  "metadata": {
    "kernelspec": {
      "display_name": "Python 3",
      "language": "python",
      "name": "python3"
    }
  }
}