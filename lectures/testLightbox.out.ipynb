{
  "cells": [
    {
      "cell_type": "markdown",
      "metadata": {},
      "source": [
        "# Testing Lightbox\n",
        "\n",
        "OK now.\n",
        "\n",
        "``` {pyodide-python}\n",
        "import matplotlib.pyplot as plt\n",
        "fig=plt.figure()\n",
        "plt.plot([1,2,3,4])\n",
        "plt.show()\n",
        "print(3+4)\n",
        "plt.close(fig)\n",
        "```"
      ],
      "id": "92b632f6-9b54-4eea-83c4-630423188cb2"
    }
  ],
  "nbformat": 4,
  "nbformat_minor": 5,
  "metadata": {
    "kernelspec": {
      "display_name": "Python 3",
      "language": "python",
      "name": "python3"
    }
  }
}