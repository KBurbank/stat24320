{
  "cells": [
    {
      "cell_type": "markdown",
      "metadata": {},
      "source": [
        "# Testing Lightbox\n",
        "\n",
        "OK now.\n",
        "\n",
        "``` {pyodide-python}\n",
        "import matplotlib.pyplot as plt\n",
        "fig=plt.figure()\n",
        "plt.plot([1,2,3,4])\n",
        "plt.show()\n",
        "print(3+4)\n",
        "plt.close(fig)\n",
        "```"
      ],
      "id": "dfde59ed-88f8-4e89-b328-ee522a335a47"
    }
  ],
  "nbformat": 4,
  "nbformat_minor": 5,
  "metadata": {
    "kernelspec": {
      "display_name": "Python 3",
      "language": "python",
      "name": "python3"
    }
  }
}