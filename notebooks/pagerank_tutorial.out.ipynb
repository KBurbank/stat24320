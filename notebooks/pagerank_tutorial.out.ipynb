{
  "cells": [
    {
      "cell_type": "markdown",
      "metadata": {},
      "source": [
        "# PageRank Tutorial\n",
        "\n",
        "## *Set up the environment. Import the sympy library.*"
      ],
      "id": "3b4c88ac-da9b-445f-a598-c230f072f7ca"
    },
    {
      "cell_type": "code",
      "execution_count": 6,
      "metadata": {
        "trusted": true
      },
      "outputs": [],
      "source": [
        "import sympy as sym"
      ],
      "id": "926266ab-a102-4ca5-b5a8-d2745fcd55a4"
    },
    {
      "cell_type": "markdown",
      "metadata": {},
      "source": [
        "We make a matrix using the `sym.Matrix` function."
      ],
      "id": "487df9ac-7dd7-4e18-914d-e2a470b4c4ff"
    },
    {
      "cell_type": "code",
      "execution_count": 7,
      "metadata": {
        "trusted": true
      },
      "outputs": [],
      "source": [
        "T = sym.Matrix([[1,2,3],[2,1,3],[2,1,1]])\n",
        "T"
      ],
      "id": "2f728bab-61e1-42c9-b39a-f879cfb3efb7"
    },
    {
      "cell_type": "markdown",
      "metadata": {},
      "source": [
        "We can create symbolic variables, and put them into the matrix if we\n",
        "want…"
      ],
      "id": "dd3e6fd5-2884-4290-866d-bb800d7ba579"
    },
    {
      "cell_type": "code",
      "execution_count": 8,
      "metadata": {
        "trusted": true
      },
      "outputs": [],
      "source": [
        "x1=sym.var('x1'); x2=sym.var('x2');x3=sym.var('x3');x4=sym.var('x4')"
      ],
      "id": "b048e792-824d-42c4-bf8e-b045345fbd91"
    },
    {
      "cell_type": "code",
      "execution_count": 9,
      "metadata": {
        "trusted": true
      },
      "outputs": [],
      "source": [
        "x1"
      ],
      "id": "7faaab13-56c3-4b15-be5b-4a5090d90fc8"
    },
    {
      "cell_type": "code",
      "execution_count": 10,
      "metadata": {
        "trusted": true
      },
      "outputs": [],
      "source": [
        "T2 = sym.Matrix([[1,x2,3],[2,1,3],[2,x1,1]])\n",
        "T2"
      ],
      "id": "59295017-2bf0-4afe-aad1-f9bd83a6d9c0"
    },
    {
      "cell_type": "markdown",
      "metadata": {},
      "source": [
        "If we input fractions, they are by default converted to floating point\n",
        "numbers:"
      ],
      "id": "51193031-56a2-4753-8ed4-8435a572d317"
    },
    {
      "cell_type": "code",
      "execution_count": 11,
      "metadata": {
        "trusted": true
      },
      "outputs": [],
      "source": [
        "T3 = sym.Matrix([[1,x2,1/3],[2,1,3],[2,x1,1]])\n",
        "T3"
      ],
      "id": "79b8570b-9143-4cc5-ad70-0a9bf48b0ba3"
    },
    {
      "cell_type": "markdown",
      "metadata": {},
      "source": [
        "It’s nicer to input fractions and keep them as fractions:"
      ],
      "id": "eb74c94b-219a-4c8f-88e5-9e66dd25c131"
    },
    {
      "cell_type": "code",
      "execution_count": 12,
      "metadata": {
        "trusted": true
      },
      "outputs": [],
      "source": [
        "T4 = sym.Matrix([[1,x2,sym.Rational(1,3)],[2,1,3],[2,x1,1]])\n",
        "T4"
      ],
      "id": "de7e5726-9d56-457a-a2ac-1fdf88130b17"
    },
    {
      "cell_type": "markdown",
      "metadata": {},
      "source": [
        "We can substitute values in for variables:"
      ],
      "id": "083e0e2c-56a2-4e32-9c22-5a1900ef4b3c"
    },
    {
      "cell_type": "code",
      "execution_count": 13,
      "metadata": {
        "trusted": true
      },
      "outputs": [],
      "source": [
        "T4.subs(x1,5)"
      ],
      "id": "8da92782-049d-4184-9806-e10ded8bd481"
    },
    {
      "cell_type": "markdown",
      "metadata": {},
      "source": [
        "We can find reduced row echelon form:"
      ],
      "id": "56cca424-0a31-4774-b908-0d1f8a37cdfe"
    },
    {
      "cell_type": "code",
      "execution_count": 14,
      "metadata": {
        "trusted": true
      },
      "outputs": [
        {
          "output_type": "display_data",
          "metadata": {},
          "data": {
            "text/plain": [
              "(Matrix([\n",
              " [1, 0, 0],\n",
              " [0, 1, 0],\n",
              " [0, 0, 1]]),\n",
              " (0, 1, 2))"
            ]
          }
        }
      ],
      "source": [
        "T4.rref()"
      ],
      "id": "87250d07-91c8-445d-9c0a-fa7b2d0465b5"
    },
    {
      "cell_type": "markdown",
      "metadata": {},
      "source": [
        "This outputs the RREFand tells us which columns correspond to bound\n",
        "variables.\n",
        "\n",
        "Lastly, we can do Gauss-Jordan elimination to solve a system of\n",
        "equations with a matrix and a right-hand-side:"
      ],
      "id": "d86c06cb-d1f4-43a0-b779-09612fe97d62"
    },
    {
      "cell_type": "code",
      "execution_count": 15,
      "metadata": {
        "trusted": true
      },
      "outputs": [
        {
          "output_type": "display_data",
          "metadata": {},
          "data": {
            "text/plain": [
              "(Matrix([\n",
              " [(17*x1 - 24*x2 - 3)/(7*x1 - 12*x2 - 1)],\n",
              " [                 -4/(7*x1 - 12*x2 - 1)],\n",
              " [(-9*x1 + 12*x2 + 3)/(7*x1 - 12*x2 - 1)]]),\n",
              " Matrix(0, 1, []))"
            ]
          }
        }
      ],
      "source": [
        "T4.gauss_jordan_solve(sym.Matrix([2,1,3]))"
      ],
      "id": "b6745cb4-b1b2-4e05-91b0-0decb8dd93f0"
    },
    {
      "cell_type": "markdown",
      "metadata": {},
      "source": [
        "That’s messy! It’s exporting several things, but the one we want is the\n",
        "first."
      ],
      "id": "4795436a-8965-4da6-b91a-ddf2b02eef7c"
    },
    {
      "cell_type": "code",
      "execution_count": 16,
      "metadata": {
        "trusted": true
      },
      "outputs": [],
      "source": [
        "T4.gauss_jordan_solve(sym.Matrix([2,1,3]))[0]"
      ],
      "id": "7c63e1a3-58f4-4af8-af65-34dc68692c03"
    },
    {
      "cell_type": "markdown",
      "metadata": {},
      "source": [
        "## *Now you try!*\n",
        "\n",
        "Create a matrix representing the system of equations for the “third try”\n",
        "in the PageRank problem:\n",
        "\n",
        "$$\n",
        "\\begin{aligned}\n",
        "& x_{1}=\\frac{x_{2}}{1}+\\frac{x_{3}}{3} \\\\\n",
        "& x_{2}=\\frac{x_{1}}{2}+\\frac{x_{3}}{3} \\\\\n",
        "& x_{3}=\\frac{x_{1}}{2}+\\frac{x_{4}}{1} \\\\\n",
        "& x_{4}=\\frac{x_{3}}{3} .\n",
        "\\end{aligned}\n",
        "$$\n",
        "\n",
        "Now find the RREF form of this matrix. What does that tell you about the\n",
        "system?\n",
        "\n",
        "Next, use the `gauss_jordan_solve`. What’s surprising (or not) about\n",
        "these results?\n",
        "\n",
        "Substitute a specific value to get a particular solution…"
      ],
      "id": "30f83167-0125-460a-b23a-196867f67cae"
    }
  ],
  "nbformat": 4,
  "nbformat_minor": 5,
  "metadata": {
    "kernelspec": {
      "name": "python3",
      "display_name": "Python 3",
      "language": "python"
    },
    "language_info": {
      "name": "python",
      "codemirror_mode": {
        "name": "ipython",
        "version": "3"
      },
      "file_extension": ".py",
      "mimetype": "text/x-python",
      "nbconvert_exporter": "python",
      "pygments_lexer": "ipython3",
      "version": "3.11.7"
    }
  }
}